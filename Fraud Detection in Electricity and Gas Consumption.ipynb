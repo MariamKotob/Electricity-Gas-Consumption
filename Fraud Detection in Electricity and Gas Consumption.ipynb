{
  "nbformat": 4,
  "nbformat_minor": 0,
  "metadata": {
    "colab": {
      "name": "DSC Academy Challenge: Fraud Detection in Electricity and Gas Consumption.ipynb",
      "provenance": [],
      "collapsed_sections": [],
      "mount_file_id": "1LczHUSHjPaKfW9VAUoeVpztWmSbqfNvC",
      "authorship_tag": "ABX9TyPq7vi1mzZWftLqr3o4jLdF",
      "include_colab_link": true
    },
    "kernelspec": {
      "name": "python3",
      "display_name": "Python 3"
    },
    "accelerator": "GPU"
  },
  "cells": [
    {
      "cell_type": "markdown",
      "metadata": {
        "id": "view-in-github",
        "colab_type": "text"
      },
      "source": [
        "<a href=\"https://colab.research.google.com/github/MariamKotob/Electricity-Gas-Consumption/blob/main/Fraud%20Detection%20in%20Electricity%20and%20Gas%20Consumption.ipynb\" target=\"_parent\"><img src=\"https://colab.research.google.com/assets/colab-badge.svg\" alt=\"Open In Colab\"/></a>"
      ]
    },
    {
      "cell_type": "code",
      "metadata": {
        "id": "0fru1ZCHcf27"
      },
      "source": [
        "!pip install https://github.com/pandas-profiling/pandas-profiling/archive/master.zip"
      ],
      "execution_count": null,
      "outputs": []
    },
    {
      "cell_type": "code",
      "metadata": {
        "id": "8O3ELKpHxlov"
      },
      "source": [
        "from sklearn.linear_model import LogisticRegression\n",
        "from sklearn.ensemble import RandomForestClassifier\n",
        "import xgboost as xgb\n",
        "\n",
        "from sklearn import preprocessing\n",
        "from sklearn.model_selection import RandomizedSearchCV\n",
        "\n",
        "import matplotlib as plt\n",
        "import pandas_profiling\n",
        "import seaborn as sns\n",
        "import pandas as pd\n",
        "import numpy as np"
      ],
      "execution_count": null,
      "outputs": []
    },
    {
      "cell_type": "code",
      "metadata": {
        "id": "QNtndZIU2SA8",
        "colab": {
          "base_uri": "https://localhost:8080/"
        },
        "outputId": "2ad32781-7b51-4676-9be2-67d04add9bf4"
      },
      "source": [
        "#Connect Google Drive to access the dataset\n",
        "from google.colab import drive\n",
        "drive.mount('/content/drive')"
      ],
      "execution_count": null,
      "outputs": [
        {
          "output_type": "stream",
          "text": [
            "Drive already mounted at /content/drive; to attempt to forcibly remount, call drive.mount(\"/content/drive\", force_remount=True).\n"
          ],
          "name": "stdout"
        }
      ]
    },
    {
      "cell_type": "code",
      "metadata": {
        "id": "PjUhPL1JCXUC",
        "colab": {
          "base_uri": "https://localhost:8080/"
        },
        "outputId": "e52898e7-b219-4e30-8f74-6d3834f96284"
      },
      "source": [
        "cd /content/drive/My\\ Drive/DataDSC"
      ],
      "execution_count": null,
      "outputs": [
        {
          "output_type": "stream",
          "text": [
            "/content/drive/My Drive/DataDSC\n"
          ],
          "name": "stdout"
        }
      ]
    },
    {
      "cell_type": "markdown",
      "metadata": {
        "id": "mIvxprVlopBv"
      },
      "source": [
        "## 1- Loading data to the notebook"
      ]
    },
    {
      "cell_type": "code",
      "metadata": {
        "id": "WchVFHw22cgM"
      },
      "source": [
        "#1 Loading data to the notebook\n",
        "cliTrain = pd.read_csv('client_train.csv')\n",
        "invTrain = pd.read_csv('invoice_train.csv')\n",
        "cliTest = pd.read_csv('client_test.csv')\n",
        "invTest = pd.read_csv('invoice_test.csv')\n",
        "samplesub = pd.read_csv('SampleSubmission.csv')"
      ],
      "execution_count": null,
      "outputs": []
    },
    {
      "cell_type": "markdown",
      "metadata": {
        "id": "ZK0KNdcdo78_"
      },
      "source": [
        "## 2- Exploring dataset"
      ]
    },
    {
      "cell_type": "code",
      "metadata": {
        "id": "aa4pxddEo8uO"
      },
      "source": [
        "#2 Exploring dataset\n",
        "# get first 5 rows of a table \n",
        "cliTrain.head()"
      ],
      "execution_count": null,
      "outputs": []
    },
    {
      "cell_type": "code",
      "metadata": {
        "id": "qvWE6D0oHKoU"
      },
      "source": [
        "invTrain.head()"
      ],
      "execution_count": null,
      "outputs": []
    },
    {
      "cell_type": "code",
      "metadata": {
        "id": "I0EISUgffkFF"
      },
      "source": [
        "print(invTrain.shape)"
      ],
      "execution_count": null,
      "outputs": []
    },
    {
      "cell_type": "code",
      "metadata": {
        "id": "UuWgghTDEVg9"
      },
      "source": [
        "print(invTest.shape)"
      ],
      "execution_count": null,
      "outputs": []
    },
    {
      "cell_type": "code",
      "metadata": {
        "id": "Ml97VWzbh8U0"
      },
      "source": [
        "print(cliTrain.shape)"
      ],
      "execution_count": null,
      "outputs": []
    },
    {
      "cell_type": "code",
      "metadata": {
        "id": "DrbobhY_h9Xo"
      },
      "source": [
        "print(cliTest.shape)"
      ],
      "execution_count": null,
      "outputs": []
    },
    {
      "cell_type": "code",
      "metadata": {
        "id": "DsDRObnRf0d1"
      },
      "source": [
        "# Explore data types and column names\n",
        "print(cliTrain.info())"
      ],
      "execution_count": null,
      "outputs": []
    },
    {
      "cell_type": "code",
      "metadata": {
        "id": "inYBy_mQfxB9"
      },
      "source": [
        "print(invTrain.info())"
      ],
      "execution_count": null,
      "outputs": []
    },
    {
      "cell_type": "code",
      "metadata": {
        "id": "KnGLrMfBIxC3"
      },
      "source": [
        "cliTrain['target'].value_counts()"
      ],
      "execution_count": null,
      "outputs": []
    },
    {
      "cell_type": "code",
      "metadata": {
        "id": "bUch-FUxPjFq"
      },
      "source": [
        "# Using pandas_profiling to explore features relations\n",
        "eda_cli_report = pandas_profiling.ProfileReport(cliTrain)\n",
        "eda_cli_report\n",
        "\n",
        "# Export output data on an HTML \n",
        "eda_cli_report.to_file(\"client_report.html\")"
      ],
      "execution_count": null,
      "outputs": []
    },
    {
      "cell_type": "code",
      "metadata": {
        "id": "_B9Tw0Quleyk"
      },
      "source": [
        "eda_inv_report = pandas_profiling.ProfileReport(invTrain, minimal=True)\n",
        "eda_inv_report.to_file(\"invoice_report.html\")"
      ],
      "execution_count": null,
      "outputs": []
    },
    {
      "cell_type": "markdown",
      "metadata": {
        "id": "pdeh4EappGt1"
      },
      "source": [
        "## 3- Cleaning and preprocessing data"
      ]
    },
    {
      "cell_type": "code",
      "metadata": {
        "id": "U0PffjTYXMlH"
      },
      "source": [
        "#3 Cleaning and re-organizing data\n",
        "# Encode 'counter_type' variable\n",
        "d={\"ELEC\":0,\"GAZ\":1}\n",
        "invTrain['counter_type'] = invTrain['counter_type'].map(d)\n",
        "\n",
        "# turn date from abject type to datetime type to process it\n",
        "for df in [invTrain, invTest]:\n",
        "    df['invoice_date'] = pd.to_datetime(df['invoice_date'])"
      ],
      "execution_count": null,
      "outputs": []
    },
    {
      "cell_type": "code",
      "metadata": {
        "id": "N4pyFRjdXORD"
      },
      "source": [
        "invTrain['counter_type'].value_counts()"
      ],
      "execution_count": null,
      "outputs": []
    },
    {
      "cell_type": "code",
      "metadata": {
        "id": "I_WxA12aXRrk"
      },
      "source": [
        "cliTrain['client_catg'].value_counts()"
      ],
      "execution_count": null,
      "outputs": []
    },
    {
      "cell_type": "code",
      "metadata": {
        "id": "qIhuHPkx1OM0"
      },
      "source": [
        "# Make statistical calculations on the invoices data and save in a new list\n",
        "aggs = {}\n",
        "aggs['consommation_level_1'] = ['sum','mean','std']\n",
        "\n",
        "aggs['consommation_level_2'] = ['sum','mean','std']\n",
        "\n",
        "aggs['consommation_level_3'] = ['sum','mean','std']\n",
        "\n",
        "aggs['consommation_level_4'] = ['sum','mean','std']\n",
        "\n",
        "aggs['months_number'] = ['sum','mean']\n",
        "\n",
        "aggs['reading_remarque'] = ['sum','mean','std']"
      ],
      "execution_count": null,
      "outputs": []
    },
    {
      "cell_type": "code",
      "metadata": {
        "id": "OyjgftyT31gm"
      },
      "source": [
        "# Collect all data of a single client in one group\n",
        "agg_trans = invTrain.groupby(['client_id']).agg(aggs)\n",
        "agg_trans.columns = ['_'.join(col).strip() for col in agg_trans.columns.values]\n",
        "agg_trans.reset_index(inplace=True)\n",
        "\n",
        "# Count the number of transactions by a single client\n",
        "df = (invTrain.groupby('client_id')\n",
        "      .size()\n",
        "      .reset_index(name='{}transactions_count'.format('1')))\n",
        "\n",
        "# New dataframe after aggregation \n",
        "agg_trans = pd.merge(df, agg_trans, on='client_id', how='left')"
      ],
      "execution_count": null,
      "outputs": []
    },
    {
      "cell_type": "code",
      "metadata": {
        "id": "Z7LNVHzZ48NO"
      },
      "source": [
        "agg_trans.head(10)"
      ],
      "execution_count": null,
      "outputs": []
    },
    {
      "cell_type": "code",
      "metadata": {
        "id": "rDV7IwP4c-vV"
      },
      "source": [
        "agg_trans.shape"
      ],
      "execution_count": null,
      "outputs": []
    },
    {
      "cell_type": "code",
      "metadata": {
        "id": "uTOOmYXV69-n"
      },
      "source": [
        "# Create the new training dataset in a dataframe\n",
        "train = pd.merge(cliTrain, agg_trans, on='client_id', how='left')"
      ],
      "execution_count": null,
      "outputs": []
    },
    {
      "cell_type": "code",
      "metadata": {
        "id": "tzdHgoM0p5EE"
      },
      "source": [
        "train.shape"
      ],
      "execution_count": null,
      "outputs": []
    },
    {
      "cell_type": "code",
      "metadata": {
        "id": "CNWD0Odlpp_0"
      },
      "source": [
        "train.head(10)"
      ],
      "execution_count": null,
      "outputs": []
    },
    {
      "cell_type": "code",
      "metadata": {
        "id": "goDvTthLdS1u"
      },
      "source": [
        "# Same re-organizing to create the new test set\n",
        "d={\"ELEC\":0,\"GAZ\":1}\n",
        "invTest['counter_type'] = invTest['counter_type'].map(d)\n",
        "\n",
        "agg_trans = invTest.groupby(['client_id']).agg(aggs)\n",
        "agg_trans.columns = ['_'.join(col).strip() for col in agg_trans.columns.values]\n",
        "agg_trans.reset_index(inplace=True)\n",
        "\n",
        "df = (invTest.groupby('client_id')\n",
        "      .size()\n",
        "      .reset_index(name='{}transactions_count'.format('1')))\n",
        "\n",
        "agg_trans = pd.merge(df, agg_trans, on='client_id', how='left')\n",
        "\n",
        "test = pd.merge(cliTest, agg_trans, on='client_id', how='left')"
      ],
      "execution_count": null,
      "outputs": []
    },
    {
      "cell_type": "code",
      "metadata": {
        "id": "0nobweMYetGf"
      },
      "source": [
        "test.shape"
      ],
      "execution_count": null,
      "outputs": []
    },
    {
      "cell_type": "code",
      "metadata": {
        "id": "zIpsdbTEwh7P"
      },
      "source": [
        "test.head(10)"
      ],
      "execution_count": null,
      "outputs": []
    },
    {
      "cell_type": "code",
      "metadata": {
        "id": "NIheSstQ9VQH"
      },
      "source": [
        "col_to_drop = ['client_id', 'creation_date','old_index_std',\n",
        "               'reading_remarque_std','month_std',\n",
        "               'consommation_level_1_std', \n",
        "               'consommation_level_2_std', \n",
        "               'consommation_level_3_std',\n",
        "               'consommation_level_4_std'\n",
        "               ]\n",
        "               \n",
        "for col in col_to_drop:\n",
        "    if col in train.columns:\n",
        "        train.drop([col], axis=1, inplace=True)\n",
        "    if col in test.columns:\n",
        "        test.drop([col], axis=1, inplace=True)\n",
        "\n",
        "# Export labels from training df\n",
        "target = cliTrain['target']\n",
        "\n",
        "# Drop the label column (target) from the df\n",
        "train.drop('target', axis=1, inplace=True)"
      ],
      "execution_count": null,
      "outputs": []
    },
    {
      "cell_type": "code",
      "metadata": {
        "id": "FsljLRuqr5JY",
        "colab": {
          "base_uri": "https://localhost:8080/",
          "height": 49
        },
        "outputId": "2ddb5418-42e6-4df9-ea52-a6ed7c6ad2c1"
      },
      "source": [
        "# Check and clean missing values + NULL values\n",
        "all_data_na = train.isnull().sum() \n",
        "all_data_na = all_data_na.drop(all_data_na[all_data_na == 0].index).sort_values(ascending=False)[:30]\n",
        "\n",
        "missing_data = pd.DataFrame({'Missing ' :all_data_na})\n",
        "missing_data.head(20) "
      ],
      "execution_count": null,
      "outputs": [
        {
          "output_type": "execute_result",
          "data": {
            "text/html": [
              "<div>\n",
              "<style scoped>\n",
              "    .dataframe tbody tr th:only-of-type {\n",
              "        vertical-align: middle;\n",
              "    }\n",
              "\n",
              "    .dataframe tbody tr th {\n",
              "        vertical-align: top;\n",
              "    }\n",
              "\n",
              "    .dataframe thead th {\n",
              "        text-align: right;\n",
              "    }\n",
              "</style>\n",
              "<table border=\"1\" class=\"dataframe\">\n",
              "  <thead>\n",
              "    <tr style=\"text-align: right;\">\n",
              "      <th></th>\n",
              "      <th>Missing</th>\n",
              "    </tr>\n",
              "  </thead>\n",
              "  <tbody>\n",
              "  </tbody>\n",
              "</table>\n",
              "</div>"
            ],
            "text/plain": [
              "Empty DataFrame\n",
              "Columns: [Missing ]\n",
              "Index: []"
            ]
          },
          "metadata": {
            "tags": []
          },
          "execution_count": 13
        }
      ]
    },
    {
      "cell_type": "markdown",
      "metadata": {
        "id": "RCk3NSHbpsLR"
      },
      "source": [
        "## 4- Model call, train and test\n"
      ]
    },
    {
      "cell_type": "code",
      "metadata": {
        "id": "Oj5gTI0dy-lH"
      },
      "source": [
        "#4 Calling the model giving the current training data\n",
        "# Try using Random Forest Model <Belive this one will be the one>\n",
        "model2 = RandomForestClassifier(n_estimators=100, random_state=55, \n",
        "                                bootstrap = True, \n",
        "                                max_features = 'sqrt', \n",
        "                                n_jobs=-1, verbose = 1)"
      ],
      "execution_count": null,
      "outputs": []
    },
    {
      "cell_type": "code",
      "metadata": {
        "id": "JwiJ6eivnvlG"
      },
      "source": [
        "# Send trining data to the model to start training\n",
        "# The model using Random Forests\n",
        "model2.fit(train, target)"
      ],
      "execution_count": null,
      "outputs": []
    },
    {
      "cell_type": "code",
      "metadata": {
        "id": "8KkVRDod0crt"
      },
      "source": [
        "# Test the model giving it list of the testing data\n",
        "prediction = model2.predict(test) \n",
        "prediction"
      ],
      "execution_count": null,
      "outputs": []
    },
    {
      "cell_type": "code",
      "metadata": {
        "id": "t1Cps_uE7KPk",
        "colab": {
          "base_uri": "https://localhost:8080/",
          "height": 359
        },
        "outputId": "d59a70b9-4b24-4533-986d-1294f1d2f63d"
      },
      "source": [
        "# Saving the initial model output\n",
        "submission = pd.DataFrame({\n",
        "        \"client_id\": samplesub[\"client_id\"],\n",
        "        \"target\": prediction[1]\n",
        "    })\n",
        "\n",
        "# Exporting data to a submission file\n",
        "submission.to_csv('SUB.csv', index=False)\n",
        "\n",
        "submission.head(10)"
      ],
      "execution_count": null,
      "outputs": [
        {
          "output_type": "execute_result",
          "data": {
            "text/html": [
              "<div>\n",
              "<style scoped>\n",
              "    .dataframe tbody tr th:only-of-type {\n",
              "        vertical-align: middle;\n",
              "    }\n",
              "\n",
              "    .dataframe tbody tr th {\n",
              "        vertical-align: top;\n",
              "    }\n",
              "\n",
              "    .dataframe thead th {\n",
              "        text-align: right;\n",
              "    }\n",
              "</style>\n",
              "<table border=\"1\" class=\"dataframe\">\n",
              "  <thead>\n",
              "    <tr style=\"text-align: right;\">\n",
              "      <th></th>\n",
              "      <th>client_id</th>\n",
              "      <th>target</th>\n",
              "    </tr>\n",
              "  </thead>\n",
              "  <tbody>\n",
              "    <tr>\n",
              "      <th>0</th>\n",
              "      <td>test_Client_0</td>\n",
              "      <td>0.0</td>\n",
              "    </tr>\n",
              "    <tr>\n",
              "      <th>1</th>\n",
              "      <td>test_Client_1</td>\n",
              "      <td>0.0</td>\n",
              "    </tr>\n",
              "    <tr>\n",
              "      <th>2</th>\n",
              "      <td>test_Client_10</td>\n",
              "      <td>0.0</td>\n",
              "    </tr>\n",
              "    <tr>\n",
              "      <th>3</th>\n",
              "      <td>test_Client_100</td>\n",
              "      <td>0.0</td>\n",
              "    </tr>\n",
              "    <tr>\n",
              "      <th>4</th>\n",
              "      <td>test_Client_1000</td>\n",
              "      <td>0.0</td>\n",
              "    </tr>\n",
              "    <tr>\n",
              "      <th>5</th>\n",
              "      <td>test_Client_10000</td>\n",
              "      <td>0.0</td>\n",
              "    </tr>\n",
              "    <tr>\n",
              "      <th>6</th>\n",
              "      <td>test_Client_10001</td>\n",
              "      <td>0.0</td>\n",
              "    </tr>\n",
              "    <tr>\n",
              "      <th>7</th>\n",
              "      <td>test_Client_10002</td>\n",
              "      <td>0.0</td>\n",
              "    </tr>\n",
              "    <tr>\n",
              "      <th>8</th>\n",
              "      <td>test_Client_10003</td>\n",
              "      <td>0.0</td>\n",
              "    </tr>\n",
              "    <tr>\n",
              "      <th>9</th>\n",
              "      <td>test_Client_10004</td>\n",
              "      <td>0.0</td>\n",
              "    </tr>\n",
              "  </tbody>\n",
              "</table>\n",
              "</div>"
            ],
            "text/plain": [
              "           client_id  target\n",
              "0      test_Client_0     0.0\n",
              "1      test_Client_1     0.0\n",
              "2     test_Client_10     0.0\n",
              "3    test_Client_100     0.0\n",
              "4   test_Client_1000     0.0\n",
              "5  test_Client_10000     0.0\n",
              "6  test_Client_10001     0.0\n",
              "7  test_Client_10002     0.0\n",
              "8  test_Client_10003     0.0\n",
              "9  test_Client_10004     0.0"
            ]
          },
          "metadata": {
            "tags": []
          },
          "execution_count": 21
        }
      ]
    },
    {
      "cell_type": "markdown",
      "metadata": {
        "id": "vi7j_03frHqG"
      },
      "source": [
        "## 5- Features Selection and Model Optimization"
      ]
    },
    {
      "cell_type": "code",
      "metadata": {
        "id": "AyEf68rAsb7p"
      },
      "source": [
        "# Variable importances and hyperparameter optimization\n",
        "\n",
        "# Feature Importances for Random Forest Model\n",
        "fea_i = pd.DataFrame({'feature': train,\n",
        "                   'importance': model2.feature_importances_}).\\\n",
        "                    sort_values('importance', ascending = False)\n",
        "fea_i.head()"
      ],
      "execution_count": null,
      "outputs": []
    },
    {
      "cell_type": "code",
      "metadata": {
        "id": "5jPfVneI5tAg"
      },
      "source": [
        "param_grid = {\n",
        "    'n_estimators': np.linspace(10, 200).astype(int),\n",
        "    'max_depth': [None] + list(np.linspace(3, 20).astype(int)),\n",
        "    'max_features': ['auto', 'sqrt', None] + list(np.arange(0.5, 1, 0.1)),\n",
        "    'max_leaf_nodes': [None] + list(np.linspace(10, 50, 500).astype(int)),\n",
        "    'min_samples_split': [2, 5, 10],\n",
        "    'bootstrap': [True, False]\n",
        "}"
      ],
      "execution_count": null,
      "outputs": []
    },
    {
      "cell_type": "code",
      "metadata": {
        "id": "vou-L8PL6VQU"
      },
      "source": [
        "# Optimizing the model performance using random search\n",
        "# Estimator for use in random search\n",
        "estimator = RandomForestClassifier(random_state = 50)\n",
        "\n",
        "# Create the random search model     #### n_jobs = -1,\n",
        "rs = RandomizedSearchCV(estimator, param_grid,   \n",
        "                        scoring = 'roc_auc', cv = 3, \n",
        "                        n_iter = 10, verbose = 1, random_state=55)\n",
        "\n",
        "# Fit \n",
        "rs.fit(train, target)"
      ],
      "execution_count": null,
      "outputs": []
    },
    {
      "cell_type": "code",
      "metadata": {
        "id": "E7nZhxpFALUb"
      },
      "source": [
        "rs.best_params_"
      ],
      "execution_count": null,
      "outputs": []
    },
    {
      "cell_type": "code",
      "metadata": {
        "id": "POfDeUU5_xuf"
      },
      "source": [
        "best_model = rs.best_estimator_"
      ],
      "execution_count": null,
      "outputs": []
    },
    {
      "cell_type": "code",
      "metadata": {
        "id": "uVGR90daAHrg"
      },
      "source": [
        "rf_predictions = best_model.predict(test)"
      ],
      "execution_count": null,
      "outputs": []
    },
    {
      "cell_type": "code",
      "metadata": {
        "id": "QXTzYLkkAgqh"
      },
      "source": [
        "rf_predictions"
      ],
      "execution_count": null,
      "outputs": []
    },
    {
      "cell_type": "code",
      "metadata": {
        "id": "vLfhuw-pBOBz"
      },
      "source": [
        "submission = pd.DataFrame({\n",
        "        \"client_id\": samplesub[\"client_id\"],\n",
        "        \"target\": rf_predictions[1]\n",
        "    })\n",
        "\n",
        "submission.head(10)"
      ],
      "execution_count": null,
      "outputs": []
    },
    {
      "cell_type": "code",
      "metadata": {
        "id": "3ifN3bc2B1Y9"
      },
      "source": [
        "submission.to_csv('SUB2.csv', index=False)"
      ],
      "execution_count": null,
      "outputs": []
    }
  ]
}